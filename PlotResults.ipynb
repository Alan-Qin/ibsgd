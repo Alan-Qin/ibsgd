{
 "cells": [
  {
   "cell_type": "code",
   "execution_count": null,
   "metadata": {
    "collapsed": false
   },
   "outputs": [],
   "source": [
    "%matplotlib inline\n",
    "import matplotlib.pyplot as plt\n",
    "import seaborn as sns\n",
    "import matplotlib.gridspec as gridspec\n",
    "import numpy as np\n",
    "\n",
    "fname = 'relu_1024-20-20-20_nbin=5'\n",
    "#fname = 'tanh_1024-20-20-20_nbin=5'\n",
    "import cPickle\n",
    "d = cPickle.load(open('logs/'+fname, 'rb'))\n",
    "ACTIVATION = d['ACTIVATION']\n",
    "PLOT_LAYERS = d['PLOT_LAYERS']\n",
    "saved_logs = d['LOGS']\n",
    "\n",
    "print('Last epoch:', d['last_epoch'])\n",
    "\n",
    "epochs = sorted(saved_logs.keys())\n"
   ]
  },
  {
   "cell_type": "code",
   "execution_count": null,
   "metadata": {
    "collapsed": false,
    "scrolled": false
   },
   "outputs": [],
   "source": [
    "DO_SAVE = False\n",
    "\n",
    "pfx = fname \n",
    "#ctime = int(time.time())\n",
    "#'%d_%s' % (ctime, ACTIVATION)\n",
    "\n",
    "sns.set_style(\"white\")\n",
    "\n",
    "plt.figure(figsize=(11,12))\n",
    "gs = gridspec.GridSpec(5,len(PLOT_LAYERS))\n",
    "plt.subplot(gs[0,0])\n",
    "plt.plot(epochs, [saved_logs[epoch]['trn_loss'] for epoch in epochs], label='Train')\n",
    "plt.plot(epochs, [saved_logs[epoch]['tst_loss'] for epoch in epochs], label='Test')\n",
    "plt.ylim([0, plt.ylim()[1]])\n",
    "plt.ylabel('Cross entropy loss')\n",
    "plt.legend()\n",
    "plt.gca().set_xscale(\"log\", nonposx='clip')\n",
    "plt.title(ACTIVATION)\n",
    "\n",
    "\n",
    "for lndx, layerid in enumerate(PLOT_LAYERS):\n",
    "    t = 'tst'\n",
    "    plt.subplot(gs[1,lndx])\n",
    "\n",
    "    kde_kl = [saved_logs[epoch][t+'_layer_%d_h_upper' % lndx] for epoch in epochs]\n",
    "    kde_bd = [saved_logs[epoch][t+'_layer_%d_h_lower' % lndx] for epoch in epochs]\n",
    "    #plt.plot(epochs, kde_kl, 'r:', label=\"$H_{KL}$\")\n",
    "    #plt.plot(epochs, kde_bd, 'g:', label=\"$H_{BD}$\")\n",
    "    plt.fill_between(epochs, kde_bd, kde_kl, color='greenyellow')\n",
    "\n",
    "    plt.title('%s - %s layer %d'%(ACTIVATION, t, layerid))\n",
    "    plt.xlabel('Epochs')\n",
    "    plt.ylabel('KDE Entropy')\n",
    "    plt.gca().set_xscale(\"log\", nonposx='clip')\n",
    "\n",
    "for lndx, layerid in enumerate(PLOT_LAYERS):\n",
    "    t = 'tst'\n",
    "    plt.subplot(gs[2,lndx])\n",
    "    \n",
    "    cmeas = 'bin'\n",
    "    plt.plot(epochs, [saved_logs[epoch][t+'_layer_%d_h_%s' %( lndx, cmeas)] for epoch in epochs], 'b', label=\"$H_{%s}$\"%cmeas)\n",
    "    #plt.plot(epochs, [saved_logs[epoch][t+'_layer_%d_h_binstd'% rowndx] for epoch in epochs], 'k', label=\"$H_{binstd}$\")\n",
    "    plt.ylim(0, 1.1*plt.ylim()[1])\n",
    "    plt.title('%s - %s layer %d'%(ACTIVATION, t, layerid))\n",
    "    plt.xlabel('Epochs')\n",
    "    plt.ylabel('MI binned [-1,1]')\n",
    "    plt.gca().set_xscale(\"log\", nonposx='clip')\n",
    "    \n",
    "for lndx, layerid in enumerate(PLOT_LAYERS):\n",
    "    t = 'tst'\n",
    "    plt.subplot(gs[3,lndx])\n",
    "    \n",
    "    cmeas = 'binstd'\n",
    "    plt.plot(epochs, [saved_logs[epoch][t+'_layer_%d_h_%s' %( lndx, cmeas)] for epoch in epochs], 'b', label=\"$H_{%s}$\"%cmeas)\n",
    "    #plt.plot(epochs, [saved_logs[epoch][t+'_layer_%d_h_binstd'% rowndx] for epoch in epochs], 'k', label=\"$H_{binstd}$\")\n",
    "    plt.ylim(0, 1.1*plt.ylim()[1])\n",
    "    plt.title('%s - %s layer %d'%(ACTIVATION, t, layerid))\n",
    "    plt.xlabel('Epochs')\n",
    "    plt.ylabel('MI zscore binned')\n",
    "    plt.gca().set_xscale(\"log\", nonposx='clip')\n",
    "\n",
    "for lndx, layerid in enumerate(PLOT_LAYERS):\n",
    "    plt.subplot(gs[4,lndx])\n",
    "    means = np.array([saved_logs[epoch]['trn_layer_%d_gradmean' % lndx] for epoch in epochs])\n",
    "    stds  = np.array([saved_logs[epoch]['trn_layer_%d_gradstd' % lndx] for epoch in epochs])\n",
    "    plt.plot(epochs, means, 'b', label=\"Mean\")\n",
    "    plt.plot(epochs, stds, 'orange', label=\"Std\")\n",
    "    plt.plot(epochs, means/stds, 'red', label=\"SNR\")\n",
    "    plt.plot(epochs, [saved_logs[epoch]['trn_layer_%d_weightsnorm' % lndx] for epoch in epochs], 'g', label=\"||W||\")\n",
    "    \n",
    "    #plt.ylabel('Layer %d - SNR'%rowndx)\n",
    "    #plt.subplot(gs[rowndx*2+1,colndx])\n",
    "    #plt.plot(epochs, [saved_logs[epoch][t+'_layer_%d_weightsnorm' % rowndx] for epoch in epochs], 'b', label=\"Weight norm\")\n",
    "    #plt.ylabel('Layer %d - ||Weights||'%rowndx)\n",
    "    #plt.xlabel('Epochs')\n",
    "    plt.title('Layer %d'%layerid)\n",
    "    plt.xlabel('Epoch')\n",
    "    plt.gca().set_xscale(\"log\", nonposx='clip')\n",
    "    plt.gca().set_yscale(\"log\", nonposy='clip')\n",
    "    \n",
    "plt.legend(loc='lower left')\n",
    "plt.tight_layout()\n",
    "\n",
    "if DO_SAVE:\n",
    "    print(\"Saving\")\n",
    "    plt.savefig('plots/%s_summary.pdf'%pfx)"
   ]
  },
  {
   "cell_type": "code",
   "execution_count": null,
   "metadata": {
    "collapsed": false
   },
   "outputs": [],
   "source": [
    "plt.figure(figsize=(10,4))\n",
    "for ndx, act in enumerate(['tanh','relu']):\n",
    "    d = cPickle.load(open('logs/'+act+'_1024-20-20-20_nbin=5', 'rb'))\n",
    "    ACTIVATION = d['ACTIVATION']\n",
    "    PLOT_LAYERS = d['PLOT_LAYERS']\n",
    "\n",
    "    epochs = sorted(saved_logs.keys())\n",
    "\n",
    "    plt.subplot(1,2,ndx+1)\n",
    "    for lndx, layerndx in enumerate(PLOT_LAYERS):\n",
    "        vals = np.array([d['LOGS'][epoch]['tst_layer_%d_h_upper' % lndx] for epoch in epochs])\n",
    "        vals -= lndx * 15 # np.min(vals)\n",
    "        plt.plot(epochs, vals, label='Layer %d' % layerndx)\n",
    "    plt.gca().set_xscale(\"log\")\n",
    "\n",
    "    plt.title(act)\n",
    "plt.legend(loc='lower right')\n",
    "\n"
   ]
  },
  {
   "cell_type": "code",
   "execution_count": null,
   "metadata": {
    "collapsed": false
   },
   "outputs": [],
   "source": [
    "for epoch in epochs:\n",
    "    print(np.log(10)-d['LOGS'][epoch]['tst_loss'])\n",
    "    asdf"
   ]
  },
  {
   "cell_type": "code",
   "execution_count": null,
   "metadata": {
    "collapsed": false
   },
   "outputs": [],
   "source": [
    "import utils\n",
    "trn, tst = utils.get_mnist()"
   ]
  },
  {
   "cell_type": "code",
   "execution_count": null,
   "metadata": {
    "collapsed": false
   },
   "outputs": [],
   "source": [
    "np.mean(tst.Y, axis=1)[1]"
   ]
  },
  {
   "cell_type": "code",
   "execution_count": null,
   "metadata": {
    "collapsed": false
   },
   "outputs": [],
   "source": [
    "adsfsdfdfasdfsd"
   ]
  },
  {
   "cell_type": "code",
   "execution_count": null,
   "metadata": {
    "collapsed": false
   },
   "outputs": [],
   "source": [
    "plt.figure(figsize=(15,5*len(PLOT_LAYERS)))\n",
    "gs = gridspec.GridSpec(len(PLOT_LAYERS)+1, 2, )\n",
    "\n",
    "for colndx, t in enumerate(['trn','tst']):\n",
    "    plt.subplot(gs[rowndx,colndx])\n",
    "\n",
    "    for rowndx, lndx in enumerate(PLOT_LAYERS):\n",
    "        plt.plot(epochs, [saved_logs[epoch][t+'_layer_%d_h_lower' % rowndx] for epoch in epochs], 'g:', label=\"$H_{BD}$\")\n",
    "\n",
    "    plt.title('%s - %s layer %d'%(ACTIVATION, t,lndx))\n",
    "    plt.xlabel('Epochs')\n",
    "    plt.ylabel('Layer Activity Entropy')\n",
    "    plt.gca().set_xscale(\"log\", nonposx='clip')\n",
    "\n",
    "    if t == 'tst':\n",
    "        plt.legend(loc='lower right')\n",
    "plt.tight_layout()\n"
   ]
  },
  {
   "cell_type": "code",
   "execution_count": null,
   "metadata": {
    "collapsed": false
   },
   "outputs": [],
   "source": []
  }
 ],
 "metadata": {
  "kernelspec": {
   "display_name": "Python 2",
   "language": "python",
   "name": "python2"
  },
  "language_info": {
   "codemirror_mode": {
    "name": "ipython",
    "version": 2
   },
   "file_extension": ".py",
   "mimetype": "text/x-python",
   "name": "python",
   "nbconvert_exporter": "python",
   "pygments_lexer": "ipython2",
   "version": "2.7.11"
  }
 },
 "nbformat": 4,
 "nbformat_minor": 0
}
